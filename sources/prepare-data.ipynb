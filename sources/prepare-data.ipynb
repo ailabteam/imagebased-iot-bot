{
 "cells": [
  {
   "cell_type": "code",
   "execution_count": 1,
   "id": "a46c1d32-873d-4c8d-a7cd-cb6f2beedb88",
   "metadata": {},
   "outputs": [
    {
     "name": "stdout",
     "output_type": "stream",
     "text": [
      "please prepare dataset\n"
     ]
    }
   ],
   "source": [
    "print('please prepare dataset')"
   ]
  },
  {
   "cell_type": "code",
   "execution_count": null,
   "id": "115e059d-5163-4db3-90c0-99b9cdae0bf9",
   "metadata": {},
   "outputs": [],
   "source": []
  }
 ],
 "metadata": {
  "kernelspec": {
   "display_name": "default:Python",
   "language": "python",
   "name": "conda-env-default-py"
  },
  "language_info": {
   "codemirror_mode": {
    "name": "ipython",
    "version": 3
   },
   "file_extension": ".py",
   "mimetype": "text/x-python",
   "name": "python",
   "nbconvert_exporter": "python",
   "pygments_lexer": "ipython3",
   "version": "3.9.7"
  }
 },
 "nbformat": 4,
 "nbformat_minor": 5
}
